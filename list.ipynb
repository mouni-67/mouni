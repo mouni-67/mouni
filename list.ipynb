{
  "nbformat": 4,
  "nbformat_minor": 0,
  "metadata": {
    "colab": {
      "provenance": [],
      "authorship_tag": "ABX9TyN4W2Y7bMImdeDPLoJZ+1fu",
      "include_colab_link": true
    },
    "kernelspec": {
      "name": "python3",
      "display_name": "Python 3"
    },
    "language_info": {
      "name": "python"
    }
  },
  "cells": [
    {
      "cell_type": "markdown",
      "metadata": {
        "id": "view-in-github",
        "colab_type": "text"
      },
      "source": [
        "<a href=\"https://colab.research.google.com/github/mouni-67/mouni/blob/main/list.ipynb\" target=\"_parent\"><img src=\"https://colab.research.google.com/assets/colab-badge.svg\" alt=\"Open In Colab\"/></a>"
      ]
    },
    {
      "cell_type": "code",
      "execution_count": 4,
      "metadata": {
        "colab": {
          "base_uri": "https://localhost:8080/"
        },
        "id": "ZvvZ_Yu7X8km",
        "outputId": "3d8ac6ce-8dd7-46c5-aae3-873e2557fffa"
      },
      "outputs": [
        {
          "output_type": "stream",
          "name": "stdout",
          "text": [
            "[1, 2, 3, 4]\n",
            "[1, 2, 10, 3, 4]\n",
            "[1, 2, 10, 3, 4, 55]\n",
            "[10, 20, 30, 1, 2, 10, 3, 4, 55]\n"
          ]
        }
      ],
      "source": [
        "myList=[1,2,3,4]\n",
        "print(myList)\n",
        "myList.insert(2,10)\n",
        "print(myList)\n",
        "myList.append(55)\n",
        "print(myList)\n",
        "\n",
        "mylist2=[10,20,30]\n",
        "mylist2.extend(myList)\n",
        "print(mylist2)"
      ]
    },
    {
      "cell_type": "code",
      "source": [
        "mylist1=['m','o','u','n','i']\n",
        "print(mylist1)\n",
        "mylist1[0:2]=['x','y']\n",
        "print(mylist1)"
      ],
      "metadata": {
        "colab": {
          "base_uri": "https://localhost:8080/"
        },
        "id": "HKTBm0y9bsP8",
        "outputId": "9df09e91-ead2-40d2-a95d-e049752ce726"
      },
      "execution_count": 7,
      "outputs": [
        {
          "output_type": "stream",
          "name": "stdout",
          "text": [
            "['m', 'o', 'u', 'n', 'i']\n",
            "['x', 'y', 'u', 'n', 'i']\n"
          ]
        }
      ]
    },
    {
      "cell_type": "code",
      "source": [
        "mylist1=['m','o','u','n','i']\n",
        "print(mylist1)\n",
        "mylist1.pop()\n",
        "print(mylist1)"
      ],
      "metadata": {
        "colab": {
          "base_uri": "https://localhost:8080/"
        },
        "id": "2jVeOry_cS0Y",
        "outputId": "af68ea80-ae88-43a7-dc4a-01cf51176ae0"
      },
      "execution_count": 11,
      "outputs": [
        {
          "output_type": "stream",
          "name": "stdout",
          "text": [
            "['m', 'o', 'u', 'n', 'i']\n",
            "['m', 'o', 'u', 'n']\n"
          ]
        }
      ]
    },
    {
      "cell_type": "code",
      "source": [
        "mylist1=['m','o','u','n','i']\n",
        "print(mylist1)\n",
        "mylist1.pop(1)\n",
        "print(mylist1)"
      ],
      "metadata": {
        "colab": {
          "base_uri": "https://localhost:8080/"
        },
        "id": "jkReuQxxcsok",
        "outputId": "346ceff3-26b8-408b-f873-75ee9478b6c1"
      },
      "execution_count": 12,
      "outputs": [
        {
          "output_type": "stream",
          "name": "stdout",
          "text": [
            "['m', 'o', 'u', 'n', 'i']\n",
            "['m', 'u', 'n', 'i']\n"
          ]
        }
      ]
    },
    {
      "cell_type": "code",
      "source": [
        "mylist1=['m','o','u','n','i']\n",
        "print(mylist1)\n",
        "del mylist1[2]\n",
        "print(mylist1)"
      ],
      "metadata": {
        "colab": {
          "base_uri": "https://localhost:8080/"
        },
        "id": "w2Ua-atmc3HB",
        "outputId": "bbf0caf0-0802-457e-e6e0-6b392e781ef2"
      },
      "execution_count": 17,
      "outputs": [
        {
          "output_type": "stream",
          "name": "stdout",
          "text": [
            "['m', 'o', 'u', 'n', 'i']\n",
            "['m', 'o', 'n', 'i']\n"
          ]
        }
      ]
    },
    {
      "cell_type": "code",
      "source": [
        "mylist1=['m','o','u','n','i']\n",
        "print(mylist1)\n",
        "mylist1.remove('m')\n",
        "print(mylist1)"
      ],
      "metadata": {
        "colab": {
          "base_uri": "https://localhost:8080/"
        },
        "id": "3gu5KdVRf4o7",
        "outputId": "11c8ed25-1af6-40d5-9960-14fb3b7a2d5b"
      },
      "execution_count": 20,
      "outputs": [
        {
          "output_type": "stream",
          "name": "stdout",
          "text": [
            "['m', 'o', 'u', 'n', 'i']\n",
            "['o', 'u', 'n', 'i']\n"
          ]
        }
      ]
    },
    {
      "cell_type": "code",
      "source": [
        "mylist=[10,20,30,40,50,60]\n",
        "print(mylist)\n",
        "def mouni(array,target):\n",
        "  if target in mylist:\n",
        "    print(target,\"is present\")\n",
        "  else:\n",
        "    print(target,\"is not present\")\n",
        "mouni(mylist,30)\n"
      ],
      "metadata": {
        "colab": {
          "base_uri": "https://localhost:8080/"
        },
        "id": "MVz6b3DngMzH",
        "outputId": "564c3859-4c3b-440e-fb97-68c6ee7fd1e4"
      },
      "execution_count": 33,
      "outputs": [
        {
          "output_type": "stream",
          "name": "stdout",
          "text": [
            "[10, 20, 30, 40, 50, 60]\n",
            "30 is present\n"
          ]
        }
      ]
    },
    {
      "cell_type": "code",
      "source": [
        "a=[1,2,3]\n",
        "print(a*3)"
      ],
      "metadata": {
        "colab": {
          "base_uri": "https://localhost:8080/"
        },
        "id": "8ZZHBufzi-s1",
        "outputId": "8c308f16-448f-4b4e-c8bb-f95e64228790"
      },
      "execution_count": 37,
      "outputs": [
        {
          "output_type": "stream",
          "name": "stdout",
          "text": [
            "[1, 2, 3, 1, 2, 3, 1, 2, 3]\n"
          ]
        }
      ]
    },
    {
      "cell_type": "code",
      "source": [
        "a=[1,2,3]\n",
        "b=[4,5,7]\n",
        "print(a+b)"
      ],
      "metadata": {
        "colab": {
          "base_uri": "https://localhost:8080/"
        },
        "id": "-8zm3y7bjJOl",
        "outputId": "39d1805c-c735-4e91-9859-6cb570dadc38"
      },
      "execution_count": 38,
      "outputs": [
        {
          "output_type": "stream",
          "name": "stdout",
          "text": [
            "[1, 2, 3, 4, 5, 7]\n"
          ]
        }
      ]
    },
    {
      "cell_type": "code",
      "source": [
        "a=[1,2,4,5,66,1,78,22,1]\n",
        "print(len(a))\n",
        "print(max(a))\n",
        "print(min(a))\n",
        "print(a.count(1))\n",
        "print(sum(a))"
      ],
      "metadata": {
        "colab": {
          "base_uri": "https://localhost:8080/"
        },
        "id": "5DncCYlkjUTr",
        "outputId": "4c236a78-037b-45c5-9782-0eeaacd34557"
      },
      "execution_count": 47,
      "outputs": [
        {
          "output_type": "stream",
          "name": "stdout",
          "text": [
            "9\n",
            "78\n",
            "1\n",
            "3\n",
            "180\n"
          ]
        }
      ]
    },
    {
      "cell_type": "code",
      "source": [
        "a=[1,2,3,4,5,6]\n",
        "print(sum(a)/len(a))"
      ],
      "metadata": {
        "colab": {
          "base_uri": "https://localhost:8080/"
        },
        "id": "VTNVyfPzj9oB",
        "outputId": "6fcc5779-3537-4b28-cd2e-318124fb0830"
      },
      "execution_count": 49,
      "outputs": [
        {
          "output_type": "stream",
          "name": "stdout",
          "text": [
            "3.5\n"
          ]
        }
      ]
    },
    {
      "cell_type": "code",
      "source": [
        "total=0\n",
        "count=0\n",
        "while True:\n",
        "  inp=input('Enter a number: ')\n",
        "  if inp=='done':\n",
        "    break\n",
        "  value=float(inp)\n",
        "  total=total+value\n",
        "  count=count+1\n",
        "average=total/count\n",
        "print('Average:',average)\n"
      ],
      "metadata": {
        "colab": {
          "base_uri": "https://localhost:8080/"
        },
        "id": "_olVGRfokI-D",
        "outputId": "446ad722-4e5b-493b-9f91-eb8288caa083"
      },
      "execution_count": 50,
      "outputs": [
        {
          "output_type": "stream",
          "name": "stdout",
          "text": [
            "Enter a number: 1\n",
            "Enter a number: 2\n",
            "Enter a number: done\n",
            "Average: 1.5\n"
          ]
        }
      ]
    },
    {
      "cell_type": "code",
      "source": [
        "a='mouni'\n",
        "print(list(a))"
      ],
      "metadata": {
        "colab": {
          "base_uri": "https://localhost:8080/"
        },
        "id": "XfjFfc6Kn5h9",
        "outputId": "cf8acdaf-9962-48d3-85bc-17bf27848c6b"
      },
      "execution_count": 65,
      "outputs": [
        {
          "output_type": "stream",
          "name": "stdout",
          "text": [
            "['m', 'o', 'u', 'n', 'i']\n"
          ]
        }
      ]
    },
    {
      "cell_type": "code",
      "source": [
        "a='mouni nani nanna'\n",
        "b=a.split()\n",
        "print(b)"
      ],
      "metadata": {
        "colab": {
          "base_uri": "https://localhost:8080/"
        },
        "id": "RuOD855ToT-e",
        "outputId": "b34e0432-3f68-4f1b-96fb-05efb979d431"
      },
      "execution_count": 68,
      "outputs": [
        {
          "output_type": "stream",
          "name": "stdout",
          "text": [
            "['mouni', 'nani', 'nanna']\n"
          ]
        }
      ]
    },
    {
      "cell_type": "code",
      "source": [
        "a='mouni-nani-nanna'\n",
        "b=a.split('-')\n",
        "print(b)\n",
        "c=delimiter='a'\n",
        "print(c.join(b))"
      ],
      "metadata": {
        "colab": {
          "base_uri": "https://localhost:8080/"
        },
        "id": "exMIGYMsoo1U",
        "outputId": "c411f779-7e42-4534-9771-d0b3d0cda7b9"
      },
      "execution_count": 73,
      "outputs": [
        {
          "output_type": "stream",
          "name": "stdout",
          "text": [
            "['mouni', 'nani', 'nanna']\n",
            "mouniananiananna\n"
          ]
        }
      ]
    },
    {
      "cell_type": "code",
      "source": [
        "a='mouni-nani-nanna'\n",
        "delimiter='a'\n",
        "c=a.split(delimiter)\n",
        "print(c)"
      ],
      "metadata": {
        "colab": {
          "base_uri": "https://localhost:8080/"
        },
        "id": "lzbd_8KJpLuP",
        "outputId": "b74f06d2-8054-4b0e-8e6f-45c8aa6e26cf"
      },
      "execution_count": 75,
      "outputs": [
        {
          "output_type": "stream",
          "name": "stdout",
          "text": [
            "['mouni-n', 'ni-n', 'nn', '']\n"
          ]
        }
      ]
    },
    {
      "cell_type": "code",
      "source": [
        "list1=[1,2,8,7,54,3]\n",
        "list1.sort()\n",
        "print(list1)"
      ],
      "metadata": {
        "colab": {
          "base_uri": "https://localhost:8080/"
        },
        "id": "K7DRedBppaMP",
        "outputId": "685f29f9-1981-43e7-8e23-678073cc68a4"
      },
      "execution_count": 76,
      "outputs": [
        {
          "output_type": "stream",
          "name": "stdout",
          "text": [
            "[1, 2, 3, 7, 8, 54]\n"
          ]
        }
      ]
    }
  ]
}